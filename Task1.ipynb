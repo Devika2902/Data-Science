{
 "cells": [
  {
   "cell_type": "code",
   "execution_count": 1,
   "metadata": {},
   "outputs": [
    {
     "name": "stdout",
     "output_type": "stream",
     "text": [
      "Hello, how are you?\n",
      ",olleH woh era ?uoy \n"
     ]
    }
   ],
   "source": [
    "def reverse(str):\n",
    "    words=str.split() \n",
    "    s=\"\"\n",
    "    for word in words:\n",
    "        s+=word[::-1]\n",
    "        s+=\" \"\n",
    "    return s\n",
    "\n",
    "\n",
    "str=input()\n",
    "s1=reverse(str)\n",
    "print(s1)"
   ]
  },
  {
   "cell_type": "code",
   "execution_count": 2,
   "metadata": {},
   "outputs": [
    {
     "name": "stdout",
     "output_type": "stream",
     "text": [
      "5\n",
      "7 6 5\n",
      "5 7 6\n",
      "8 2 9\n",
      "2 3 4\n",
      "2 4 3\n",
      "1\n"
     ]
    }
   ],
   "source": [
    "n=int(input())\n",
    "l=[]\n",
    "count=0\n",
    "for i in range(n):\n",
    "    a,b,c=input().split()\n",
    "    if ((a+b+c) or (a+c+b) or (b+c+a) or (b+a+c) or (c+a+b) or (c+b+a)) in l:\n",
    "        count=count+2 \n",
    "    else:\n",
    "        l.append(a+b+c)\n",
    "        l.append(a+c+b)\n",
    "        l.append(b+a+c)\n",
    "        l.append(c+b+a)\n",
    "        l.append(b+c+a)\n",
    "        l.append(c+a+b)\n",
    "    \n",
    "print(n-count)   "
   ]
  },
  {
   "cell_type": "code",
   "execution_count": 3,
   "metadata": {},
   "outputs": [
    {
     "name": "stdout",
     "output_type": "stream",
     "text": [
      "[[1,3],[2,6],[8,10],[15,18]]\n",
      "[[1, 6], [8, 10], [15, 18]]\n"
     ]
    }
   ],
   "source": [
    "import re\n",
    "s=input()\n",
    "ele=[]\n",
    "flag=0\n",
    "l=[]\n",
    "li=re.findall(r\"[0-9]+\",s)\n",
    "for i in li:\n",
    "    ele.append(int(i))\n",
    "    flag+=1\n",
    "    if flag==2:\n",
    "        flag=0\n",
    "        l.append(ele)\n",
    "        ele=[]\n",
    "new=[]\n",
    "i=0\n",
    "while(i<len(l)-1):\n",
    "    if l[i][-1]>=l[i+1][0]:\n",
    "        ele.append(l[i][0])\n",
    "        ele.append(l[i+1][-1])\n",
    "        i+=2\n",
    "    else:\n",
    "        ele=l[i].copy()\n",
    "        i+=1\n",
    "    new.append(ele)\n",
    "if i==len(l)-1:\n",
    "    new.append(l[i])\n",
    "print(new)"
   ]
  }
 ],
 "metadata": {
  "kernelspec": {
   "display_name": "Python 3",
   "language": "python",
   "name": "python3"
  },
  "language_info": {
   "codemirror_mode": {
    "name": "ipython",
    "version": 3
   },
   "file_extension": ".py",
   "mimetype": "text/x-python",
   "name": "python",
   "nbconvert_exporter": "python",
   "pygments_lexer": "ipython3",
   "version": "3.8.5"
  }
 },
 "nbformat": 4,
 "nbformat_minor": 4
}
